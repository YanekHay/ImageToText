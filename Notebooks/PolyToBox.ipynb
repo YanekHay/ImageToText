{
 "cells": [
  {
   "cell_type": "code",
   "execution_count": 3,
   "id": "9fe95176-bcc0-4aba-ba79-247432dc3792",
   "metadata": {
    "tags": []
   },
   "outputs": [],
   "source": [
    "import os\n",
    "import cv2\n",
    "import shutil\n",
    "import numpy as np\n",
    "from glob import glob\n",
    "from pathlib import Path\n",
    "import matplotlib.pyplot  as plt\n",
    "import sys\n",
    "sys.path.append(\"../\")"
   ]
  },
  {
   "cell_type": "code",
   "execution_count": 82,
   "id": "6a3e0576-5914-4a19-9ae8-dfb472f9e9aa",
   "metadata": {
    "tags": []
   },
   "outputs": [],
   "source": [
    "def load_yolo_labels(label_path, img_shape):\n",
    "    \"\"\"\n",
    "    Load YOLO labels from a file and convert them to pixel coordinates.\n",
    "\n",
    "    Inputs:\n",
    "        - `label_path`: Path to the label file | type: str\n",
    "        - `img_shape`: Shape of the image (height, width) | type: tuple\n",
    "    Output(s):\n",
    "        - List of labels in pixel coordinates | type: list\n",
    "    \"\"\"\n",
    "    with open(label_path, \"r\") as f:\n",
    "        lines = f.readlines()\n",
    "    \n",
    "    classes = []\n",
    "    for i in range(len(lines)):\n",
    "        # Convert string to numpy array and reshape\n",
    "        classes.append(int(lines[i].split()[0]))\n",
    "        lines[i] = np.array([float(j) for j in lines[i].replace(\"\\n\",\"\").split()[1:]]).reshape((-1,2))\n",
    "        # Convert normalized coordinates to pixel coordinates\n",
    "        lines[i][:, 0] *= img_shape[0]\n",
    "        lines[i][:, 1] *= img_shape[1]\n",
    "        # Convert to integer\n",
    "        lines[i] = lines[i].astype(np.int32)\n",
    "    return classes, lines\n",
    "\n",
    "def get_box_from_poly(poly, img_shape):\n",
    "    xmin, ymin = poly.min(axis=0)\n",
    "    xmax,  ymax = poly.max(axis=0)\n",
    "    \n",
    "    xc = np.clip((xmin+xmax)/2 / img_shape[1], 0, 1)\n",
    "    yc = np.clip((ymin+ymax)/2 / img_shape[0], 0, 1)\n",
    "    w = np.clip((xmax-xmin) / img_shape[1], 0, 1)\n",
    "    h = np.clip((ymax-ymin) / img_shape[0], 0, 1)\n",
    "    \n",
    "    return xc, yc, w, h"
   ]
  },
  {
   "cell_type": "code",
   "execution_count": 85,
   "id": "c3011db0-0200-4eda-ab7e-467c4d7ac3fa",
   "metadata": {
    "tags": []
   },
   "outputs": [],
   "source": [
    "roots = [Path(f\"../TRAIN_DATA/cls_Letters/P1/\"), Path(f\"../TRAIN_DATA/cls_Letters/P2/\")]\n",
    "dests = [Path(f\"../TRAIN_DATA/cls_Letters/Boxed/P1/\"), Path(f\"../TRAIN_DATA/cls_Letters/Boxed/P2/\")]\n",
    "for split in [\"train\", \"val\"]:\n",
    "    for i, root in enumerate(roots):\n",
    "        root = root/split\n",
    "        dest = dests[i]/split\n",
    "        os.makedirs(dest, exist_ok=True)\n",
    "        (dest/\"images\").mkdir(exist_ok=True)\n",
    "        (dest/\"labels\").mkdir(exist_ok=True)\n",
    "\n",
    "        image_paths = glob(os.path.join(root, \"images/*\"))\n",
    "        label_paths = [str(i).replace(\"images\", \"labels\").replace(\".jpeg\", \".txt\").replace(\".jpg\", \".txt\") for i in image_paths]\n",
    "\n",
    "        from custom_functions.yolo_data import draw_polygons\n",
    "        for i,label_path in enumerate(label_paths):\n",
    "            img = cv2.imread(image_paths[i])\n",
    "            classes, polygons = load_yolo_labels(label_path, img.shape)\n",
    "            label = \"\"\n",
    "\n",
    "\n",
    "            # plt.imshow(draw_polygons(img, polygons))\n",
    "            # plt.show()\n",
    "            for j, poly in enumerate(polygons):\n",
    "                box = get_box_from_poly(poly, img.shape)\n",
    "                label += f\"{classes[j]} {box[0]} {box[1]} {box[2]} {box[3]}\\n\"\n",
    "\n",
    "            with open(dest/\"labels\"/Path(label_path).name, \"w\") as f:\n",
    "                f.write(label)\n",
    "\n",
    "            shutil.copy2(image_paths[i], dest/\"images\"/Path(image_paths[i]).name)"
   ]
  },
  {
   "cell_type": "code",
   "execution_count": null,
   "id": "7c493257-17d6-4092-8004-8bcc0da69fbd",
   "metadata": {},
   "outputs": [],
   "source": []
  },
  {
   "cell_type": "code",
   "execution_count": null,
   "id": "8e3fbd35-77c0-44bc-b089-f4a6e9379489",
   "metadata": {},
   "outputs": [],
   "source": []
  }
 ],
 "metadata": {
  "kernelspec": {
   "display_name": "Python 3 (ipykernel)",
   "language": "python",
   "name": "python3"
  },
  "language_info": {
   "codemirror_mode": {
    "name": "ipython",
    "version": 3
   },
   "file_extension": ".py",
   "mimetype": "text/x-python",
   "name": "python",
   "nbconvert_exporter": "python",
   "pygments_lexer": "ipython3",
   "version": "3.10.9"
  }
 },
 "nbformat": 4,
 "nbformat_minor": 5
}
