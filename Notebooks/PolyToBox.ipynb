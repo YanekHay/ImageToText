{
 "cells": [
  {
   "cell_type": "code",
   "execution_count": 46,
   "id": "9fe95176-bcc0-4aba-ba79-247432dc3792",
   "metadata": {
    "tags": []
   },
   "outputs": [],
   "source": [
    "import os\n",
    "import cv2\n",
    "import shutil\n",
    "import numpy as np\n",
    "from glob import glob\n",
    "from pathlib import Path\n",
    "import matplotlib.pyplot  as plt\n",
    "import sys\n",
    "sys.path.append(\"../\")"
   ]
  },
  {
   "cell_type": "code",
   "execution_count": 18,
   "id": "6a3e0576-5914-4a19-9ae8-dfb472f9e9aa",
   "metadata": {
    "tags": []
   },
   "outputs": [],
   "source": [
    "def load_yolo_labels(label_path, img_shape):\n",
    "    \"\"\"\n",
    "    Load YOLO labels from a file and convert them to pixel coordinates.\n",
    "\n",
    "    Inputs:\n",
    "        - `label_path`: Path to the label file | type: str\n",
    "        - `img_shape`: Shape of the image (height, width) | type: tuple\n",
    "    Output(s):\n",
    "        - List of labels in pixel coordinates | type: list\n",
    "    \"\"\"\n",
    "    with open(label_path, \"r\") as f:\n",
    "        lines = f.readlines()\n",
    "    \n",
    "    for i in range(len(lines)):\n",
    "        # Convert string to numpy array and reshape\n",
    "        lines[i] = np.array([float(j) for j in lines[i].replace(\"\\n\",\"\").split()[1:]]).reshape((-1,2))\n",
    "        # Convert normalized coordinates to pixel coordinates\n",
    "        lines[i][:, 0] *= img_shape[1]\n",
    "        lines[i][:, 1] *= img_shape[0]\n",
    "        # Convert to integer\n",
    "        lines[i] = lines[i].astype(np.int32)\n",
    "    return lines"
   ]
  },
  {
   "cell_type": "code",
   "execution_count": 87,
   "id": "512d1255-bf79-4912-afe5-0f9f8d5bb129",
   "metadata": {
    "tags": []
   },
   "outputs": [],
   "source": [
    "split = \"train\"\n",
    "root = Path(f\"../TRAIN_DATA/Words_2/{split}\")\n",
    "dest =  Path(f\"../TRAIN_DATA/Words_2_box/{split}\")\n",
    "\n",
    "os.makedirs(dest, exist_ok=True)\n",
    "(dest/\"images\").mkdir(exist_ok=True)\n",
    "(dest/\"labels\").mkdir(exist_ok=True)"
   ]
  },
  {
   "cell_type": "code",
   "execution_count": 88,
   "id": "2c635e1b-b0f8-4ad0-885e-1412c5dca705",
   "metadata": {
    "tags": []
   },
   "outputs": [],
   "source": [
    "image_paths = glob(os.path.join(root, \"images/*\"))\n",
    "label_paths = [str(i).replace(\"images\", \"labels\").replace(\".jpeg\", \".txt\").replace(\".jpg\", \".txt\") for i in image_paths]"
   ]
  },
  {
   "cell_type": "code",
   "execution_count": 89,
   "id": "ff6d658e-56ed-4edc-9b08-a64489a88571",
   "metadata": {
    "tags": []
   },
   "outputs": [],
   "source": [
    "def get_box_from_poly(poly, img_shape):\n",
    "    xmin, ymin = poly.min(axis=0)\n",
    "    xmax,  ymax = poly.max(axis=0)\n",
    "    \n",
    "    xc = (xmin+xmax)/2 / img_shape[1]\n",
    "    yc = (ymin+ymax)/2 / img_shape[0]\n",
    "    w = (xmax-xmin) / img_shape[1]\n",
    "    h = (ymax-ymin) / img_shape[0]\n",
    "    \n",
    "    return xc,yc,w,h"
   ]
  },
  {
   "cell_type": "code",
   "execution_count": 90,
   "id": "f1477090-4d01-4881-a08e-144c326f4bad",
   "metadata": {
    "tags": []
   },
   "outputs": [],
   "source": [
    "cls = 0\n",
    "for i,label_path in enumerate(label_paths):\n",
    "    img = cv2.imread(image_paths[i])\n",
    "    polygons = load_yolo_labels(label_path, img.shape)\n",
    "    \n",
    "    label = \"\"\n",
    "    for poly in polygons:\n",
    "        box = get_box_from_poly(poly, img.shape)\n",
    "        label += f\"{cls} {box[0]} {box[1]} {box[2]} {box[3]}\\n\"\n",
    "        \n",
    "    with open(dest/\"labels\"/Path(label_path).name, \"w\") as f:\n",
    "        f.write(label)\n",
    "    \n",
    "    shutil.copy2(image_paths[i], dest/\"images\"/Path(image_paths[i]).name)"
   ]
  },
  {
   "cell_type": "code",
   "execution_count": 99,
   "id": "ec680322-7df2-4a99-b525-d1cede262e9c",
   "metadata": {
    "tags": []
   },
   "outputs": [
    {
     "name": "stdout",
     "output_type": "stream",
     "text": [
      "(5, 2)\n"
     ]
    }
   ],
   "source": [
    "import numpy as np\n",
    "from matplotlib.path import Path\n",
    "\n",
    "# Create a black image of shape (500, 500)\n",
    "image = np.zeros((500, 500), dtype=np.uint16)\n",
    "\n",
    "# Create a polygon represented by a (4, 2) array of its vertices' coordinates\n",
    "polygon = np.array([[100, 100], [200, 150], [150, 150], [200, 200], [100, 200]])\n",
    "# Create a Path object for the polygon\n",
    "path = Path(polygon)\n",
    "\n",
    "# Create a grid of points representing the pixel coordinates\n",
    "x, y = np.meshgrid(np.arange(500), np.arange(500))\n",
    "points = np.column_stack((x.ravel(), y.ravel()))\n",
    "\n",
    "# Create a binary mask for the polygon\n",
    "mask = path.contains_points(points).reshape(500, 500) \n",
    "\n",
    "# Set the value of the pixels inside the polygon to 255\n",
    "image[mask] = 1000"
   ]
  },
  {
   "cell_type": "code",
   "execution_count": 98,
   "id": "6f1eac62-c826-4eb6-bedf-a88332618f94",
   "metadata": {
    "tags": []
   },
   "outputs": [
    {
     "data": {
      "text/plain": [
       "<matplotlib.image.AxesImage at 0x1cc430d59f0>"
      ]
     },
     "execution_count": 98,
     "metadata": {},
     "output_type": "execute_result"
    },
    {
     "data": {
      "image/png": "[encoded data removed]",
      "text/plain": [
       "<Figure size 640x480 with 1 Axes>"
      ]
     },
     "metadata": {},
     "output_type": "display_data"
    }
   ],
   "source": [
    "plt.imshow(image)"
   ]
  },
  {
   "cell_type": "code",
   "execution_count": null,
   "id": "18f62b2b-068e-4a4b-978f-6a20e1e17efa",
   "metadata": {},
   "outputs": [],
   "source": []
  },
  {
   "cell_type": "code",
   "execution_count": null,
   "id": "7c493257-17d6-4092-8004-8bcc0da69fbd",
   "metadata": {},
   "outputs": [],
   "source": []
  }
 ],
 "metadata": {
  "kernelspec": {
   "display_name": "Python 3 (ipykernel)",
   "language": "python",
   "name": "python3"
  },
  "language_info": {
   "codemirror_mode": {
    "name": "ipython",
    "version": 3
   },
   "file_extension": ".py",
   "mimetype": "text/x-python",
   "name": "python",
   "nbconvert_exporter": "python",
   "pygments_lexer": "ipython3",
   "version": "3.10.9"
  }
 },
 "nbformat": 4,
 "nbformat_minor": 5
}
