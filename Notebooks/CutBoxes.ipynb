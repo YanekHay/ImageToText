{
 "cells": [
  {
   "cell_type": "code",
   "execution_count": 5,
   "id": "a6c0ac83-9354-4dcc-a997-b1db441e3ead",
   "metadata": {
    "tags": []
   },
   "outputs": [],
   "source": [
    "import os\n",
    "import cv2\n",
    "import torch\n",
    "import random\n",
    "import numpy as np\n",
    "from glob import glob\n",
    "from pathlib import Path\n",
    "from tqdm.notebook import tqdm\n",
    "import matplotlib.pyplot as plt\n",
    "\n",
    "def load_label(path:str, img_shape):\n",
    "    with open(path, \"r\") as f:\n",
    "        labels = f.readlines()\n",
    "    \n",
    "    res = []\n",
    "    for row in labels:\n",
    "        coords = []\n",
    "        for i,num in enumerate(row.replace(\"\\n\", \"\").split()[1:]):\n",
    "            coord = int(float(num)*img_shape[(i+1)%2])\n",
    "            coords.append(coord)\n",
    "        res.append(coords)\n",
    "    if len(res)==0:\n",
    "        return []\n",
    "    return np.array(res).reshape(len(labels), -1, 2)\n",
    "\n",
    "def crop_polygon(image:np.ndarray, poly_points:np.ndarray, empty_fill_color=(255,255,255)):\n",
    "    mask = np.zeros_like(image)\n",
    "    cv2.fillPoly(mask, [poly_points], empty_fill_color)\n",
    "\n",
    "    # Apply the mask to the image\n",
    "    masked_image = cv2.bitwise_and(image, mask)\n",
    "    \n",
    "    # Crop the image to the desired rectangle\n",
    "    x, y, w, h = cv2.boundingRect(poly_points)\n",
    "    cropped_image = masked_image[y:y+h, x:x+w]\n",
    "\n",
    "    return cropped_image\n",
    "\n",
    "def cut_words(image_paths:list, label_paths:list, output_dir=\"./Cuts\"):\n",
    "    if not os.path.exists(output_dir):\n",
    "        os.makedirs(output_dir)\n",
    "        \n",
    "    for i, path in enumerate(tqdm(image_paths)):\n",
    "        img = cv2.imread(path)\n",
    "        polygons = load_label(label_paths[i], img.shape)\n",
    "        for j,polygon in enumerate(polygons):\n",
    "            crop = crop_polygon(img, polygon)\n",
    "            cv2.imwrite(os.path.join(output_dir, f\"{Path(path).stem}_{j}.jpeg\"), crop)\n",
    "            \n",
    "def get_image_paths(root:str,\n",
    "                    split:str,\n",
    "                    extensions=[\".jpeg\", \".jpg\", \".png\"],\n",
    "                    return_labels=True,\n",
    "                    path_type=str):\n",
    "    \n",
    "    img_root = Path(os.path.join(root, split, \"images\"))\n",
    "    image_paths = []\n",
    "    for ext in extensions:\n",
    "        image_paths += list(img_root.glob(f\"*{ext}\"))\n",
    "    \n",
    "    if return_labels:\n",
    "        label_paths = [i.parent.parent/f\"labels/{i.stem}.txt\" for i in image_paths]\n",
    "    \n",
    "    if path_type is str:\n",
    "        image_paths = [path_type(i) for i in image_paths]\n",
    "        label_paths = [path_type(i) for i in label_paths]\n",
    "    \n",
    "    if return_labels:\n",
    "        return image_paths, label_paths        \n",
    "    \n",
    "    return image_paths\n",
    "\n",
    "def shuffle_lists(list1, list2):\n",
    "    combined = list(zip(list1, list2))\n",
    "    random.shuffle(combined)\n",
    "    list1[:], list2[:] = zip(*combined)"
   ]
  },
  {
   "cell_type": "code",
   "execution_count": 6,
   "id": "429738ee-877b-492a-b221-397d9e9d26b5",
   "metadata": {
    "tags": []
   },
   "outputs": [],
   "source": [
    "root = \"../TRAIN_DATA/Words_2/\"\n",
    "split = \"train\"\n",
    "\n",
    "img_paths, label_paths = get_image_paths(root, split)\n",
    "shuffle_lists(img_paths, label_paths)"
   ]
  },
  {
   "cell_type": "code",
   "execution_count": 7,
   "id": "2a5fa291-1332-44c7-b9b1-eb59481f8c29",
   "metadata": {
    "tags": []
   },
   "outputs": [
    {
     "data": {
      "text/plain": [
       "('..\\\\TRAIN_DATA\\\\Words_2\\\\train\\\\images\\\\20230327_234331.jpeg',\n",
       " '..\\\\TRAIN_DATA\\\\Words_2\\\\train\\\\labels\\\\20230327_234331.txt')"
      ]
     },
     "execution_count": 7,
     "metadata": {},
     "output_type": "execute_result"
    }
   ],
   "source": [
    "img_paths[0], label_paths[0]"
   ]
  },
  {
   "cell_type": "code",
   "execution_count": 8,
   "id": "3866d151-567e-4fa5-b777-edc6cf7498ca",
   "metadata": {
    "tags": []
   },
   "outputs": [
    {
     "data": {
      "application/vnd.jupyter.widget-view+json": {
       "model_id": "2924594aadb3408cb2ed96d2bd72b3c2",
       "version_major": 2,
       "version_minor": 0
      },
      "text/plain": [
       "  0%|          | 0/189 [00:00<?, ?it/s]"
      ]
     },
     "metadata": {},
     "output_type": "display_data"
    },
    {
     "name": "stderr",
     "output_type": "stream",
     "text": [
      "C:\\Users\\yanek\\AppData\\Local\\Temp\\ipykernel_9268\\2815815338.py:24: VisibleDeprecationWarning: Creating an ndarray from ragged nested sequences (which is a list-or-tuple of lists-or-tuples-or ndarrays with different lengths or shapes) is deprecated. If you meant to do this, you must specify 'dtype=object' when creating the ndarray.\n",
      "  return np.array(res).reshape(len(labels), -1, 2)\n"
     ]
    },
    {
     "ename": "ValueError",
     "evalue": "cannot reshape array of size 172 into shape (172,newaxis,2)",
     "output_type": "error",
     "traceback": [
      "\u001b[1;31m---------------------------------------------------------------------------\u001b[0m",
      "\u001b[1;31mValueError\u001b[0m                                Traceback (most recent call last)",
      "Cell \u001b[1;32mIn[8], line 1\u001b[0m\n\u001b[1;32m----> 1\u001b[0m \u001b[43mcut_words\u001b[49m\u001b[43m(\u001b[49m\u001b[43mimg_paths\u001b[49m\u001b[43m,\u001b[49m\u001b[43m \u001b[49m\u001b[43mlabel_paths\u001b[49m\u001b[43m,\u001b[49m\u001b[43m \u001b[49m\u001b[43moutput_dir\u001b[49m\u001b[38;5;241;43m=\u001b[39;49m\u001b[38;5;124;43m\"\u001b[39;49m\u001b[38;5;124;43m../Data/Word_cuts\u001b[39;49m\u001b[38;5;124;43m\"\u001b[39;49m\u001b[43m)\u001b[49m\n",
      "Cell \u001b[1;32mIn[5], line 45\u001b[0m, in \u001b[0;36mcut_words\u001b[1;34m(image_paths, label_paths, output_dir)\u001b[0m\n\u001b[0;32m     43\u001b[0m \u001b[38;5;28;01mfor\u001b[39;00m i, path \u001b[38;5;129;01min\u001b[39;00m \u001b[38;5;28menumerate\u001b[39m(tqdm(image_paths)):\n\u001b[0;32m     44\u001b[0m     img \u001b[38;5;241m=\u001b[39m cv2\u001b[38;5;241m.\u001b[39mimread(path)\n\u001b[1;32m---> 45\u001b[0m     polygons \u001b[38;5;241m=\u001b[39m \u001b[43mload_label\u001b[49m\u001b[43m(\u001b[49m\u001b[43mlabel_paths\u001b[49m\u001b[43m[\u001b[49m\u001b[43mi\u001b[49m\u001b[43m]\u001b[49m\u001b[43m,\u001b[49m\u001b[43m \u001b[49m\u001b[43mimg\u001b[49m\u001b[38;5;241;43m.\u001b[39;49m\u001b[43mshape\u001b[49m\u001b[43m)\u001b[49m\n\u001b[0;32m     46\u001b[0m     \u001b[38;5;28;01mfor\u001b[39;00m j,polygon \u001b[38;5;129;01min\u001b[39;00m \u001b[38;5;28menumerate\u001b[39m(polygons):\n\u001b[0;32m     47\u001b[0m         crop \u001b[38;5;241m=\u001b[39m crop_polygon(img, polygon)\n",
      "Cell \u001b[1;32mIn[5], line 24\u001b[0m, in \u001b[0;36mload_label\u001b[1;34m(path, img_shape)\u001b[0m\n\u001b[0;32m     22\u001b[0m \u001b[38;5;28;01mif\u001b[39;00m \u001b[38;5;28mlen\u001b[39m(res)\u001b[38;5;241m==\u001b[39m\u001b[38;5;241m0\u001b[39m:\n\u001b[0;32m     23\u001b[0m     \u001b[38;5;28;01mreturn\u001b[39;00m []\n\u001b[1;32m---> 24\u001b[0m \u001b[38;5;28;01mreturn\u001b[39;00m \u001b[43mnp\u001b[49m\u001b[38;5;241;43m.\u001b[39;49m\u001b[43marray\u001b[49m\u001b[43m(\u001b[49m\u001b[43mres\u001b[49m\u001b[43m)\u001b[49m\u001b[38;5;241;43m.\u001b[39;49m\u001b[43mreshape\u001b[49m\u001b[43m(\u001b[49m\u001b[38;5;28;43mlen\u001b[39;49m\u001b[43m(\u001b[49m\u001b[43mlabels\u001b[49m\u001b[43m)\u001b[49m\u001b[43m,\u001b[49m\u001b[43m \u001b[49m\u001b[38;5;241;43m-\u001b[39;49m\u001b[38;5;241;43m1\u001b[39;49m\u001b[43m,\u001b[49m\u001b[43m \u001b[49m\u001b[38;5;241;43m2\u001b[39;49m\u001b[43m)\u001b[49m\n",
      "\u001b[1;31mValueError\u001b[0m: cannot reshape array of size 172 into shape (172,newaxis,2)"
     ]
    }
   ],
   "source": [
    "cut_words(img_paths, label_paths, output_dir=\"../Data/Word_cuts\")"
   ]
  },
  {
   "cell_type": "code",
   "execution_count": null,
   "id": "6c7f354b-54ae-4ad1-bb7d-96d28d567575",
   "metadata": {},
   "outputs": [],
   "source": []
  }
 ],
 "metadata": {
  "kernelspec": {
   "display_name": "Python 3 (ipykernel)",
   "language": "python",
   "name": "python3"
  },
  "language_info": {
   "codemirror_mode": {
    "name": "ipython",
    "version": 3
   },
   "file_extension": ".py",
   "mimetype": "text/x-python",
   "name": "python",
   "nbconvert_exporter": "python",
   "pygments_lexer": "ipython3",
   "version": "3.10.9"
  }
 },
 "nbformat": 4,
 "nbformat_minor": 5
}
